{
  "nbformat": 4,
  "nbformat_minor": 0,
  "metadata": {
    "colab": {
      "provenance": [],
      "collapsed_sections": []
    },
    "kernelspec": {
      "name": "python3",
      "display_name": "Python 3"
    },
    "language_info": {
      "name": "python"
    }
  },
  "cells": [
    {
      "cell_type": "code",
      "execution_count": null,
      "metadata": {
        "id": "rYUuFX1G6RN7"
      },
      "outputs": [],
      "source": [
        "def pad_punctuation(sentence, punc):\n",
        "    # 노이즈 유형 1\n",
        "  for p in punc:\n",
        "    sentence = sentence.replace(p, \" \" + p + \" \")\n",
        "\n",
        "  return sentence"
      ]
    },
    {
      "cell_type": "code",
      "source": [
        "sentence = \"Hi, my name is john.\"\n",
        "\n",
        "print(pad_punctuation(sentence, [\".\", \"?\", \"!\", \",\"]))"
      ],
      "metadata": {
        "colab": {
          "base_uri": "https://localhost:8080/"
        },
        "id": "WnNOj2un6g9g",
        "outputId": "14c4677a-c709-4b0c-b02e-fce41e9caa2a"
      },
      "execution_count": null,
      "outputs": [
        {
          "output_type": "stream",
          "name": "stdout",
          "text": [
            "Hi ,  my name is john . \n"
          ]
        }
      ]
    },
    {
      "cell_type": "code",
      "source": [
        "# 노이즈 유형 2\n",
        "# 소문자로 변경\n",
        "\n",
        "sentence = \"First, open the first chapter.\"\n",
        "print(sentence.lower())"
      ],
      "metadata": {
        "colab": {
          "base_uri": "https://localhost:8080/"
        },
        "id": "NTutT0wb6iVo",
        "outputId": "3d9a699b-c406-4ccb-d9b3-c7cff039594b"
      },
      "execution_count": null,
      "outputs": [
        {
          "output_type": "stream",
          "name": "stdout",
          "text": [
            "first, open the first chapter.\n"
          ]
        }
      ]
    },
    {
      "cell_type": "code",
      "source": [
        "# 노이즈 유형 2-1\n",
        "## 대문자로 변경\n",
        "\n",
        "sentence = \"First, open the first chapter.\"\n",
        "print(sentence.upper())"
      ],
      "metadata": {
        "colab": {
          "base_uri": "https://localhost:8080/"
        },
        "id": "pgKSkmmu6jpA",
        "outputId": "8a8ce438-6e24-49ee-d607-bf5b33946015"
      },
      "execution_count": null,
      "outputs": [
        {
          "output_type": "stream",
          "name": "stdout",
          "text": [
            "FIRST, OPEN THE FIRST CHAPTER.\n"
          ]
        }
      ]
    },
    {
      "cell_type": "code",
      "source": [
        "import re\n",
        "\n",
        "# 노이즈 유형 3\n",
        "sentence = \"He is a ten-year-old boy.\"\n",
        "sentence = re.sub(\"([^a-zA-Z.,?!])\", \" \", sentence)\n",
        "\n",
        "print(sentence)"
      ],
      "metadata": {
        "colab": {
          "base_uri": "https://localhost:8080/"
        },
        "id": "-2n6a2h56kwo",
        "outputId": "8efc1fa2-a318-4f9e-9eff-1884c4298d7a"
      },
      "execution_count": null,
      "outputs": [
        {
          "output_type": "stream",
          "name": "stdout",
          "text": [
            "He is a ten year old boy.\n"
          ]
        }
      ]
    },
    {
      "cell_type": "code",
      "source": [
        "corpus = \\\n",
        "\"\"\"\n",
        " I have read \"The Frost Fairies\" since, also the letters I wrote in which I used other ideas of Miss Canby's. I find in one of them, a letter to Mr. Anagnos, dated September 29, 1891, words and sentiments exactly like those of the book. At the time I was writing \"The Frost King,\" and this letter, like many others, contains phrases which show that my mind was saturated with the story. I represent my teacher as saying to me of the golden autumn leaves, \"Yes, they are beautiful enough to comfort us for the flight of summer\"—an idea direct from Miss Canby's story.\n",
        "\"\"\""
      ],
      "metadata": {
        "id": "oePt84HI6mDB"
      },
      "execution_count": null,
      "outputs": []
    },
    {
      "cell_type": "code",
      "source": [
        "def cleaning_text(text, punc, regex):\n",
        "    # 노이즈 유형 1\n",
        "    for p in punc:\n",
        "      text = text.replace(p, \" \" + p + \" \")\n",
        "\n",
        "    # 노이즈 유형 2\n",
        "    text = text.lower()\n",
        "\n",
        "    # 노이즈 유형 3\n",
        "    text = re.sub(regex, \" \", text)\n",
        "    \n",
        "    return text"
      ],
      "metadata": {
        "id": "EgecZMdE7WLl"
      },
      "execution_count": null,
      "outputs": []
    },
    {
      "cell_type": "code",
      "source": [
        "print(cleaning_text(corpus, [\".\", \"?\", \"!\", \",\"], \"[^a-zA-Z0-9.,?!\\n]\"))"
      ],
      "metadata": {
        "colab": {
          "base_uri": "https://localhost:8080/"
        },
        "id": "Z-eLrrvI8Hcd",
        "outputId": "708afe52-7b2b-4fb7-8c20-b1e15ac359a0"
      },
      "execution_count": null,
      "outputs": [
        {
          "output_type": "stream",
          "name": "stdout",
          "text": [
            "\n",
            " i have read  the frost fairies  since ,  also the letters i wrote in which i used other ideas of miss canby s .  i find in one of them ,  a letter to mr .  anagnos ,  dated september 29 ,  1891 ,  words and sentiments exactly like those of the book .  at the time i was writing  the frost king ,   and this letter ,  like many others ,  contains phrases which show that my mind was saturated with the story .  i represent my teacher as saying to me of the golden autumn leaves ,   yes ,  they are beautiful enough to comfort us for the flight of summer  an idea direct from miss canby s story . \n",
            "\n"
          ]
        }
      ]
    }
  ]
}