{
  "nbformat": 4,
  "nbformat_minor": 0,
  "metadata": {
    "colab": {
      "provenance": [],
      "collapsed_sections": []
    },
    "kernelspec": {
      "name": "python3",
      "display_name": "Python 3"
    },
    "language_info": {
      "name": "python"
    }
  },
  "cells": [
    {
      "cell_type": "code",
      "execution_count": 54,
      "metadata": {
        "id": "AygIRk5SywLR",
        "colab": {
          "base_uri": "https://localhost:8080/"
        },
        "outputId": "84f1f1b4-c315-4833-bb63-c70a9ce059b3"
      },
      "outputs": [
        {
          "output_type": "stream",
          "name": "stdout",
          "text": [
            "['2', '0', '2', '2', '0', '5', '1', '3']\n",
            "[' ', ' ', ' ', 'f', 'r', 'i', 'd', 'a', 'y']\n"
          ]
        }
      ],
      "source": [
        "import re\n",
        "\n",
        "# 1\n",
        "# 숫자 찾기\n",
        "example = '2022 05 13 friday'\n",
        "print(re.findall('\\d', example))\n",
        "\n",
        "# 숫자가 아닌 것 찾기\n",
        "print(re.findall('\\D', example))"
      ]
    },
    {
      "cell_type": "code",
      "source": [
        "example = '0bc9'\n",
        "print(re.findall('([0-9])bc([0-9])', example))"
      ],
      "metadata": {
        "colab": {
          "base_uri": "https://localhost:8080/"
        },
        "id": "01kkB7Te1Rtf",
        "outputId": "88f9df49-416b-4b69-f5a6-a014ce08b1a4"
      },
      "execution_count": 67,
      "outputs": [
        {
          "output_type": "stream",
          "name": "stdout",
          "text": [
            "[('0', '9')]\n"
          ]
        }
      ]
    },
    {
      "cell_type": "code",
      "source": [
        "# 2\n",
        "\n",
        "# 이메일 주소를 찾기\n",
        "example = '제 이메일은 rimiyeyo@yonsei.ac.kr 입니다. rimiyeyo@gmail.com으로 변경되었습니다.'\n",
        "print(re.findall('([A-Za-z0-9]+@[0-9]+)', example))"
      ],
      "metadata": {
        "id": "I5MclFqty2-Z",
        "colab": {
          "base_uri": "https://localhost:8080/"
        },
        "outputId": "e60857cd-a1e0-4ef1-e574-a1e02b1e7dae"
      },
      "execution_count": 59,
      "outputs": [
        {
          "output_type": "stream",
          "name": "stdout",
          "text": [
            "[]\n"
          ]
        }
      ]
    },
    {
      "cell_type": "code",
      "source": [
        "# 3\n",
        "\n",
        "# URL 찾기\n",
        "example = 'https://www.google.com/에 네이버 검색하시면 https://www.naver.com/이 상단에 노출됩니다.'\n",
        "print(re.findall('[A-Za-z0-9]+:[A-Za-z0-9./]+/', example))"
      ],
      "metadata": {
        "id": "rDKRT_w8y5RR",
        "colab": {
          "base_uri": "https://localhost:8080/"
        },
        "outputId": "620ec9fc-9ad7-4498-ab71-0602b6cbe3ed"
      },
      "execution_count": 49,
      "outputs": [
        {
          "output_type": "stream",
          "name": "stdout",
          "text": [
            "['https://www.google.com/', 'https://www.naver.com/']\n"
          ]
        }
      ]
    },
    {
      "cell_type": "code",
      "source": [
        "# 4\n",
        "\n",
        "# 파일 찾기\n",
        "example = '제 바탕화면 보시면 sonata01.png 파일과 avante02.jpg 파일 그리고 socar2021.gif 파일이 존재합니다.'\n",
        "print(re.findall('[A-Za-z0-9]+.[A-Za-z0-9]+', example))"
      ],
      "metadata": {
        "id": "2IzFcv0HzCOD",
        "colab": {
          "base_uri": "https://localhost:8080/"
        },
        "outputId": "21898d33-fda0-4c51-941d-a1fe6a718755"
      },
      "execution_count": 48,
      "outputs": [
        {
          "output_type": "stream",
          "name": "stdout",
          "text": [
            "['sonata01.png', 'avante02.jpg', 'socar2021.gif']\n"
          ]
        }
      ]
    },
    {
      "cell_type": "code",
      "source": [],
      "metadata": {
        "id": "aIbvAEZxzE0M"
      },
      "execution_count": null,
      "outputs": []
    }
  ]
}